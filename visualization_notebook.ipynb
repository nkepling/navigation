{
 "cells": [
  {
   "cell_type": "code",
   "execution_count": 44,
   "metadata": {},
   "outputs": [],
   "source": [
    "import matplotlib.pyplot as plt\n",
    "import numpy as np\n",
    "import torch\n",
    "from compare_paths import *\n",
    "from utils import *\n",
    "from pytorch_value_iteration_networks.model import *\n",
    "from types import SimpleNamespace\n",
    "from eval import *\n",
    "import pickle\n",
    "import pandas as pd "
   ]
  },
  {
   "cell_type": "markdown",
   "metadata": {},
   "source": [
    "# VIN path compare"
   ]
  },
  {
   "cell_type": "code",
   "execution_count": 58,
   "metadata": {},
   "outputs": [],
   "source": [
    "\n",
    "df = pd.read_csv(\"path_results.csv\")"
   ]
  },
  {
   "cell_type": "code",
   "execution_count": 59,
   "metadata": {},
   "outputs": [
    {
     "data": {
      "text/html": [
       "<div>\n",
       "<style scoped>\n",
       "    .dataframe tbody tr th:only-of-type {\n",
       "        vertical-align: middle;\n",
       "    }\n",
       "\n",
       "    .dataframe tbody tr th {\n",
       "        vertical-align: top;\n",
       "    }\n",
       "\n",
       "    .dataframe thead th {\n",
       "        text-align: right;\n",
       "    }\n",
       "</style>\n",
       "<table border=\"1\" class=\"dataframe\">\n",
       "  <thead>\n",
       "    <tr style=\"text-align: right;\">\n",
       "      <th></th>\n",
       "      <th>seed</th>\n",
       "      <th>algorithm</th>\n",
       "      <th>mean_inference_time</th>\n",
       "      <th>total_steps</th>\n",
       "      <th>successful</th>\n",
       "      <th>path</th>\n",
       "      <th>stop_reason</th>\n",
       "      <th>path_vin</th>\n",
       "      <th>path_puct</th>\n",
       "    </tr>\n",
       "  </thead>\n",
       "  <tbody>\n",
       "    <tr>\n",
       "      <th>0</th>\n",
       "      <td>19983</td>\n",
       "      <td>VI</td>\n",
       "      <td>0.025616</td>\n",
       "      <td>53</td>\n",
       "      <td>True</td>\n",
       "      <td>[(0, 0), (0, 1), (1, 1), (2, 1), (3, 1), (4, 1...</td>\n",
       "      <td>Goal Reached</td>\n",
       "      <td>NaN</td>\n",
       "      <td>NaN</td>\n",
       "    </tr>\n",
       "    <tr>\n",
       "      <th>1</th>\n",
       "      <td>19983</td>\n",
       "      <td>VIN</td>\n",
       "      <td>0.008207</td>\n",
       "      <td>39</td>\n",
       "      <td>True</td>\n",
       "      <td>NaN</td>\n",
       "      <td>Goal Reached</td>\n",
       "      <td>[(0, 0), (0, 1), (1, 1), (2, 1), (2, 2), (2, 3...</td>\n",
       "      <td>NaN</td>\n",
       "    </tr>\n",
       "    <tr>\n",
       "      <th>2</th>\n",
       "      <td>19983</td>\n",
       "      <td>PUCT</td>\n",
       "      <td>0.425549</td>\n",
       "      <td>39</td>\n",
       "      <td>True</td>\n",
       "      <td>NaN</td>\n",
       "      <td>Goal Reached</td>\n",
       "      <td>NaN</td>\n",
       "      <td>[(0, 0), (0, 1), (1, 1), (2, 1), (2, 2), (2, 3...</td>\n",
       "    </tr>\n",
       "    <tr>\n",
       "      <th>3</th>\n",
       "      <td>12390</td>\n",
       "      <td>VI</td>\n",
       "      <td>0.019722</td>\n",
       "      <td>38</td>\n",
       "      <td>True</td>\n",
       "      <td>[(0, 0), (1, 0), (2, 0), (2, 1), (2, 2), (2, 3...</td>\n",
       "      <td>Goal Reached</td>\n",
       "      <td>NaN</td>\n",
       "      <td>NaN</td>\n",
       "    </tr>\n",
       "    <tr>\n",
       "      <th>4</th>\n",
       "      <td>12390</td>\n",
       "      <td>VIN</td>\n",
       "      <td>0.007238</td>\n",
       "      <td>148</td>\n",
       "      <td>False</td>\n",
       "      <td>NaN</td>\n",
       "      <td>Live Lock Detected</td>\n",
       "      <td>[(0, 0), (1, 0), (2, 0), (3, 0), (3, 1), (3, 2...</td>\n",
       "      <td>NaN</td>\n",
       "    </tr>\n",
       "  </tbody>\n",
       "</table>\n",
       "</div>"
      ],
      "text/plain": [
       "    seed algorithm  mean_inference_time  total_steps  successful  \\\n",
       "0  19983        VI             0.025616           53        True   \n",
       "1  19983       VIN             0.008207           39        True   \n",
       "2  19983      PUCT             0.425549           39        True   \n",
       "3  12390        VI             0.019722           38        True   \n",
       "4  12390       VIN             0.007238          148       False   \n",
       "\n",
       "                                                path         stop_reason  \\\n",
       "0  [(0, 0), (0, 1), (1, 1), (2, 1), (3, 1), (4, 1...        Goal Reached   \n",
       "1                                                NaN        Goal Reached   \n",
       "2                                                NaN        Goal Reached   \n",
       "3  [(0, 0), (1, 0), (2, 0), (2, 1), (2, 2), (2, 3...        Goal Reached   \n",
       "4                                                NaN  Live Lock Detected   \n",
       "\n",
       "                                            path_vin  \\\n",
       "0                                                NaN   \n",
       "1  [(0, 0), (0, 1), (1, 1), (2, 1), (2, 2), (2, 3...   \n",
       "2                                                NaN   \n",
       "3                                                NaN   \n",
       "4  [(0, 0), (1, 0), (2, 0), (3, 0), (3, 1), (3, 2...   \n",
       "\n",
       "                                           path_puct  \n",
       "0                                                NaN  \n",
       "1                                                NaN  \n",
       "2  [(0, 0), (0, 1), (1, 1), (2, 1), (2, 2), (2, 3...  \n",
       "3                                                NaN  \n",
       "4                                                NaN  "
      ]
     },
     "execution_count": 59,
     "metadata": {},
     "output_type": "execute_result"
    }
   ],
   "source": [
    "df.head()"
   ]
  },
  {
   "cell_type": "code",
   "execution_count": 65,
   "metadata": {},
   "outputs": [
    {
     "data": {
      "text/plain": [
       "187"
      ]
     },
     "execution_count": 65,
     "metadata": {},
     "output_type": "execute_result"
    }
   ],
   "source": [
    "len(df[df[\"algorithm\"] == \"VIN\"])"
   ]
  },
  {
   "cell_type": "code",
   "execution_count": 62,
   "metadata": {},
   "outputs": [
    {
     "name": "stdout",
     "output_type": "stream",
     "text": [
      "stop_reason\n",
      "Live Lock Detected    18\n",
      "collision              2\n",
      "Name: count, dtype: int64\n"
     ]
    }
   ],
   "source": [
    "fails = df[df[\"successful\"]==False]\n",
    "\n",
    "vin_fails = fails[fails[\"algorithm\"]==\"VIN\"]\n",
    "\n",
    "print(vin_fails[\"stop_reason\"].value_counts())\n",
    "\n",
    "# print(fails[\"stop_reason\"].value_counts())\n",
    "\n"
   ]
  },
  {
   "cell_type": "code",
   "execution_count": 48,
   "metadata": {},
   "outputs": [
    {
     "name": "stdout",
     "output_type": "stream",
     "text": [
      "Empty DataFrame\n",
      "Columns: [seed, algorithm, mean_inference_time, total_steps, successful, path, stop_reason, path_vin, path_puct]\n",
      "Index: []\n"
     ]
    }
   ],
   "source": [
    "print(fails[fails[\"stop_reason\"]==\"Max Steps Reached\"])\n",
    "\n"
   ]
  },
  {
   "cell_type": "markdown",
   "metadata": {},
   "source": []
  },
  {
   "cell_type": "code",
   "execution_count": null,
   "metadata": {},
   "outputs": [],
   "source": []
  },
  {
   "cell_type": "code",
   "execution_count": 49,
   "metadata": {},
   "outputs": [],
   "source": [
    "successes = df[df[\"successful\"]==True]"
   ]
  },
  {
   "cell_type": "code",
   "execution_count": 50,
   "metadata": {},
   "outputs": [
    {
     "data": {
      "text/plain": [
       "[14930, 7316, 10462, 15441, 13724, 12637, 16991, 18213, 13883, 15935]"
      ]
     },
     "execution_count": 50,
     "metadata": {},
     "output_type": "execute_result"
    }
   ],
   "source": [
    "successes.sample(10)[\"seed\"].to_list()"
   ]
  },
  {
   "cell_type": "code",
   "execution_count": 51,
   "metadata": {},
   "outputs": [
    {
     "name": "stdout",
     "output_type": "stream",
     "text": [
      "45.55670103092783\n"
     ]
    }
   ],
   "source": [
    "vins = df[df[\"algorithm\"]==\"VIN\"]\n",
    "\n",
    "print(vins[\"total_steps\"].mean())\n"
   ]
  },
  {
   "cell_type": "code",
   "execution_count": null,
   "metadata": {},
   "outputs": [],
   "source": []
  },
  {
   "cell_type": "code",
   "execution_count": 52,
   "metadata": {},
   "outputs": [
    {
     "name": "stdout",
     "output_type": "stream",
     "text": [
      "0.8917525773195877\n",
      "0.00693570638177422\n",
      "45.55670103092783\n"
     ]
    }
   ],
   "source": [
    "vis = df[df[\"algorithm\"]==\"VIN\"]\n",
    "print(vis[\"successful\"].mean())\n",
    "print(vis[\"mean_inference_time\"].mean())\n",
    "print(vis[\"total_steps\"].mean())"
   ]
  },
  {
   "cell_type": "code",
   "execution_count": 53,
   "metadata": {},
   "outputs": [],
   "source": [
    "# plot steps vs reward collected \n",
    "\n",
    "\n"
   ]
  }
 ],
 "metadata": {
  "kernelspec": {
   "display_name": "env",
   "language": "python",
   "name": "python3"
  },
  "language_info": {
   "codemirror_mode": {
    "name": "ipython",
    "version": 3
   },
   "file_extension": ".py",
   "mimetype": "text/x-python",
   "name": "python",
   "nbconvert_exporter": "python",
   "pygments_lexer": "ipython3",
   "version": "3.10.15"
  }
 },
 "nbformat": 4,
 "nbformat_minor": 2
}
