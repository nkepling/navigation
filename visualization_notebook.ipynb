{
 "cells": [
  {
   "cell_type": "code",
   "execution_count": 1,
   "metadata": {},
   "outputs": [],
   "source": [
    "import matplotlib.pyplot as plt\n",
    "import numpy as np\n",
    "import torch\n",
    "from compare_paths import *\n",
    "from utils import *\n",
    "from pytorch_value_iteration_networks.model import *\n",
    "from types import SimpleNamespace\n",
    "from eval import *\n",
    "import pickle\n",
    "import pandas as pd "
   ]
  },
  {
   "cell_type": "markdown",
   "metadata": {},
   "source": [
    "# VIN path compare"
   ]
  },
  {
   "cell_type": "code",
   "execution_count": 2,
   "metadata": {},
   "outputs": [],
   "source": [
    "\n",
    "df = pd.read_csv(\"path_results.csv\")"
   ]
  },
  {
   "cell_type": "code",
   "execution_count": 3,
   "metadata": {},
   "outputs": [
    {
     "data": {
      "text/html": [
       "<div>\n",
       "<style scoped>\n",
       "    .dataframe tbody tr th:only-of-type {\n",
       "        vertical-align: middle;\n",
       "    }\n",
       "\n",
       "    .dataframe tbody tr th {\n",
       "        vertical-align: top;\n",
       "    }\n",
       "\n",
       "    .dataframe thead th {\n",
       "        text-align: right;\n",
       "    }\n",
       "</style>\n",
       "<table border=\"1\" class=\"dataframe\">\n",
       "  <thead>\n",
       "    <tr style=\"text-align: right;\">\n",
       "      <th></th>\n",
       "      <th>seed</th>\n",
       "      <th>algorithm</th>\n",
       "      <th>mean_inference_time</th>\n",
       "      <th>total_steps</th>\n",
       "      <th>successful</th>\n",
       "      <th>path</th>\n",
       "      <th>path_vin</th>\n",
       "    </tr>\n",
       "  </thead>\n",
       "  <tbody>\n",
       "    <tr>\n",
       "      <th>0</th>\n",
       "      <td>16494</td>\n",
       "      <td>VI</td>\n",
       "      <td>0.002660</td>\n",
       "      <td>7</td>\n",
       "      <td>True</td>\n",
       "      <td>[(0, 0), (1, 0), (1, 1), (1, 2), (1, 3), (1, 4...</td>\n",
       "      <td>NaN</td>\n",
       "    </tr>\n",
       "    <tr>\n",
       "      <th>1</th>\n",
       "      <td>16494</td>\n",
       "      <td>VIN</td>\n",
       "      <td>0.000466</td>\n",
       "      <td>7</td>\n",
       "      <td>True</td>\n",
       "      <td>NaN</td>\n",
       "      <td>[(0, 0), (1, 0), (1, 1), (1, 2), (1, 3), (1, 4...</td>\n",
       "    </tr>\n",
       "    <tr>\n",
       "      <th>2</th>\n",
       "      <td>6545</td>\n",
       "      <td>VI</td>\n",
       "      <td>0.003278</td>\n",
       "      <td>12</td>\n",
       "      <td>True</td>\n",
       "      <td>[(0, 0), (0, 1), (0, 2), (0, 3), (0, 4), (0, 5...</td>\n",
       "      <td>NaN</td>\n",
       "    </tr>\n",
       "    <tr>\n",
       "      <th>3</th>\n",
       "      <td>6545</td>\n",
       "      <td>VIN</td>\n",
       "      <td>0.000392</td>\n",
       "      <td>12</td>\n",
       "      <td>True</td>\n",
       "      <td>NaN</td>\n",
       "      <td>[(0, 0), (0, 1), (0, 2), (0, 3), (0, 4), (0, 5...</td>\n",
       "    </tr>\n",
       "    <tr>\n",
       "      <th>4</th>\n",
       "      <td>19842</td>\n",
       "      <td>VI</td>\n",
       "      <td>0.002788</td>\n",
       "      <td>17</td>\n",
       "      <td>True</td>\n",
       "      <td>[(0, 0), (1, 0), (2, 0), (3, 0), (4, 0), (5, 0...</td>\n",
       "      <td>NaN</td>\n",
       "    </tr>\n",
       "  </tbody>\n",
       "</table>\n",
       "</div>"
      ],
      "text/plain": [
       "    seed algorithm  mean_inference_time  total_steps  successful  \\\n",
       "0  16494        VI             0.002660            7        True   \n",
       "1  16494       VIN             0.000466            7        True   \n",
       "2   6545        VI             0.003278           12        True   \n",
       "3   6545       VIN             0.000392           12        True   \n",
       "4  19842        VI             0.002788           17        True   \n",
       "\n",
       "                                                path  \\\n",
       "0  [(0, 0), (1, 0), (1, 1), (1, 2), (1, 3), (1, 4...   \n",
       "1                                                NaN   \n",
       "2  [(0, 0), (0, 1), (0, 2), (0, 3), (0, 4), (0, 5...   \n",
       "3                                                NaN   \n",
       "4  [(0, 0), (1, 0), (2, 0), (3, 0), (4, 0), (5, 0...   \n",
       "\n",
       "                                            path_vin  \n",
       "0                                                NaN  \n",
       "1  [(0, 0), (1, 0), (1, 1), (1, 2), (1, 3), (1, 4...  \n",
       "2                                                NaN  \n",
       "3  [(0, 0), (0, 1), (0, 2), (0, 3), (0, 4), (0, 5...  \n",
       "4                                                NaN  "
      ]
     },
     "execution_count": 3,
     "metadata": {},
     "output_type": "execute_result"
    }
   ],
   "source": [
    "df.head()"
   ]
  },
  {
   "cell_type": "code",
   "execution_count": null,
   "metadata": {},
   "outputs": [],
   "source": []
  },
  {
   "cell_type": "code",
   "execution_count": 17,
   "metadata": {},
   "outputs": [
    {
     "data": {
      "text/plain": [
       "[14865, 14009, 16276, 12884, 17928, 9883, 11524, 17155, 13482, 17610]"
      ]
     },
     "execution_count": 17,
     "metadata": {},
     "output_type": "execute_result"
    }
   ],
   "source": [
    "fails = df[df[\"successful\"]==True]\n",
    "#fails[\"seed\"].sample(10).to_list()\n"
   ]
  },
  {
   "cell_type": "code",
   "execution_count": 18,
   "metadata": {},
   "outputs": [],
   "source": [
    "successes = df[df[\"successful\"]==True]"
   ]
  },
  {
   "cell_type": "code",
   "execution_count": null,
   "metadata": {},
   "outputs": [],
   "source": [
    "successes.sample(10)[\"seed\"].to_list()"
   ]
  },
  {
   "cell_type": "code",
   "execution_count": 40,
   "metadata": {},
   "outputs": [
    {
     "name": "stdout",
     "output_type": "stream",
     "text": [
      "17.691756272401435\n"
     ]
    }
   ],
   "source": [
    "vins = df[df[\"algorithm\"]==\"VIN\"]\n",
    "\n",
    "print(vins[\"total_steps\"].mean())\n"
   ]
  },
  {
   "cell_type": "code",
   "execution_count": 41,
   "metadata": {},
   "outputs": [
    {
     "name": "stdout",
     "output_type": "stream",
     "text": [
      "0.985663082437276\n",
      "0.002423629721919019\n",
      "17.65232974910394\n"
     ]
    }
   ],
   "source": [
    "vis = df[df[\"algorithm\"]==\"VI\"]\n",
    "print(vis[\"successful\"].mean())\n",
    "print(vis[\"mean_inference_time\"].mean())\n",
    "print(vis[\"total_steps\"].mean())"
   ]
  }
 ],
 "metadata": {
  "kernelspec": {
   "display_name": "env",
   "language": "python",
   "name": "python3"
  },
  "language_info": {
   "codemirror_mode": {
    "name": "ipython",
    "version": 3
   },
   "file_extension": ".py",
   "mimetype": "text/x-python",
   "name": "python",
   "nbconvert_exporter": "python",
   "pygments_lexer": "ipython3",
   "version": "3.10.15"
  }
 },
 "nbformat": 4,
 "nbformat_minor": 2
}
